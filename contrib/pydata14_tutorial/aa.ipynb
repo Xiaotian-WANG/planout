{
 "cells": [
  {
   "cell_type": "code",
   "execution_count": 1,
   "metadata": {},
   "outputs": [],
   "source": [
    "from planout.experiment import SimpleExperiment\n",
    "from planout.ops.random import *\n",
    "\n",
    "class VotingExperiment(SimpleExperiment):\n",
    "  def assign(self, params, userid):\n",
    "    params.button_color = UniformChoice(choices=[\"#ff0000\", \"#00ff00\"],\n",
    "      unit=userid)\n",
    "    params.button_text = UniformChoice(choices=[\"I'm voting\", \"I'm a voter\"],\n",
    "      unit=userid)"
   ]
  },
  {
   "cell_type": "code",
   "execution_count": 15,
   "metadata": {},
   "outputs": [],
   "source": [
    "exp = VotingExperiment(userid=14)\n",
    "call_to_action_color = exp.get('button_color')\n",
    "call_to_action = exp.get('button_text')"
   ]
  },
  {
   "cell_type": "code",
   "execution_count": 13,
   "metadata": {},
   "outputs": [
    {
     "name": "stdout",
     "output_type": "stream",
     "text": [
      "#00ff00\n"
     ]
    }
   ],
   "source": [
    "print(call_to_action_color)"
   ]
  },
  {
   "cell_type": "code",
   "execution_count": 7,
   "metadata": {},
   "outputs": [
    {
     "data": {
      "text/plain": [
       "<__main__.VotingExperiment at 0x2c9791fcd08>"
      ]
     },
     "execution_count": 7,
     "metadata": {},
     "output_type": "execute_result"
    }
   ],
   "source": [
    "exp"
   ]
  },
  {
   "cell_type": "code",
   "execution_count": 14,
   "metadata": {},
   "outputs": [],
   "source": [
    "exp = VotingExperiment(userid=14000)\n",
    "call_to_action_color = exp.get('button_color')\n",
    "call_to_action = exp.get('button_text')"
   ]
  },
  {
   "cell_type": "code",
   "execution_count": 17,
   "metadata": {},
   "outputs": [],
   "source": [
    "exp = VotingExperiment(userid=20)\n",
    "exp.log_event('button_click')"
   ]
  },
  {
   "cell_type": "code",
   "execution_count": 20,
   "metadata": {},
   "outputs": [
    {
     "data": {
      "text/plain": [
       "'#ff0000'"
      ]
     },
     "execution_count": 20,
     "metadata": {},
     "output_type": "execute_result"
    }
   ],
   "source": [
    "exp.get(\"button_color\")"
   ]
  },
  {
   "cell_type": "code",
   "execution_count": null,
   "metadata": {},
   "outputs": [],
   "source": []
  }
 ],
 "metadata": {
  "kernelspec": {
   "display_name": "Python 3",
   "language": "python",
   "name": "python3"
  },
  "language_info": {
   "codemirror_mode": {
    "name": "ipython",
    "version": 3
   },
   "file_extension": ".py",
   "mimetype": "text/x-python",
   "name": "python",
   "nbconvert_exporter": "python",
   "pygments_lexer": "ipython3",
   "version": "3.7.9"
  }
 },
 "nbformat": 4,
 "nbformat_minor": 4
}
