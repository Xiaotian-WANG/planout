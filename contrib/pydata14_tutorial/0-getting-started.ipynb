{
 "cells": [
  {
   "cell_type": "markdown",
   "metadata": {},
   "source": [
    "# Getting started with PlanOut"
   ]
  },
  {
   "cell_type": "markdown",
   "metadata": {},
   "source": [
    "### Your first experiment"
   ]
  },
  {
   "cell_type": "markdown",
   "metadata": {},
   "source": [
    "This imports basic operators for doing random assignment and SimpleExperiment, the base class for logging"
   ]
  },
  {
   "cell_type": "code",
   "execution_count": 1,
   "metadata": {},
   "outputs": [],
   "source": [
    "from planout.ops.random import *\n",
    "from planout.experiment import SimpleExperiment\n",
    "import pandas as pd"
   ]
  },
  {
   "cell_type": "markdown",
   "metadata": {},
   "source": [
    "You can define new experiments by subclassing `SimpleExperiment`, and implementing an `assign()` method."
   ]
  },
  {
   "cell_type": "code",
   "execution_count": 2,
   "metadata": {},
   "outputs": [],
   "source": [
    "class SignupExperiment(SimpleExperiment):\n",
    "  def assign(self, params, cookieid):\n",
    "    params.button_color = UniformChoice(\n",
    "      choices=[\"#ff0000\", \"#00ff00\"],\n",
    "      unit=cookieid)\n",
    "    params.button_text = UniformChoice(\n",
    "      choices=[\"Join now\", \"Sign me up!\"],\n",
    "      unit=cookieid) "
   ]
  },
  {
   "cell_type": "markdown",
   "metadata": {},
   "source": [
    "You can get randomized assignments for your input units by creating instances of the class. The code below gets the parameter values, `button_text` and `button_color` for `cookeid` = 4."
   ]
  },
  {
   "cell_type": "code",
   "execution_count": 3,
   "metadata": {},
   "outputs": [
    {
     "name": "stdout",
     "output_type": "stream",
     "text": [
      "Sign me up!\n",
      "#ff0000\n"
     ]
    }
   ],
   "source": [
    "e = SignupExperiment(cookieid=4)\n",
    "print(e.get('button_text'))\n",
    "print(e.get('button_color'))"
   ]
  },
  {
   "cell_type": "markdown",
   "metadata": {},
   "source": [
    "Here are the assignments for 10 userids."
   ]
  },
  {
   "cell_type": "code",
   "execution_count": 5,
   "metadata": {},
   "outputs": [
    {
     "name": "stdout",
     "output_type": "stream",
     "text": [
      "cookie = 0: Sign me up!, #00ff00\n",
      "cookie = 1: Join now, #00ff00\n",
      "cookie = 2: Sign me up!, #ff0000\n",
      "cookie = 3: Sign me up!, #00ff00\n",
      "cookie = 4: Sign me up!, #ff0000\n",
      "cookie = 5: Join now, #00ff00\n",
      "cookie = 6: Join now, #ff0000\n",
      "cookie = 7: Join now, #00ff00\n",
      "cookie = 8: Join now, #ff0000\n",
      "cookie = 9: Join now, #ff0000\n"
     ]
    }
   ],
   "source": [
    "for i in range(10):\n",
    "    e = SignupExperiment(cookieid=i)\n",
    "    print(\"cookie = %s: %s, %s\" % (i, e.get('button_text'), e.get('button_color')))"
   ]
  },
  {
   "cell_type": "markdown",
   "metadata": {},
   "source": [
    "To check to see that the experiment is doing what we expect it to, we can simulate assignments for many userids and construct a dataframe with all of the assignments:"
   ]
  },
  {
   "cell_type": "code",
   "execution_count": 6,
   "metadata": {},
   "outputs": [
    {
     "name": "stdout",
     "output_type": "stream",
     "text": [
      "  button_color  button_text\n",
      "0      #00ff00  Sign me up!\n",
      "1      #00ff00     Join now\n",
      "2      #ff0000  Sign me up!\n",
      "3      #00ff00  Sign me up!\n",
      "4      #ff0000  Sign me up!\n"
     ]
    }
   ],
   "source": [
    "sim_users = [SignupExperiment(cookieid=i).get_params() for i in range(1000)]\n",
    "assignments = pd.DataFrame.from_dict(sim_users)\n",
    "print(assignments[:5])"
   ]
  },
  {
   "cell_type": "code",
   "execution_count": 7,
   "metadata": {},
   "outputs": [
    {
     "name": "stdout",
     "output_type": "stream",
     "text": [
      "button_text  button_color\n",
      "Join now     #00ff00         234\n",
      "             #ff0000         247\n",
      "Sign me up!  #00ff00         246\n",
      "             #ff0000         273\n",
      "dtype: int64\n"
     ]
    }
   ],
   "source": [
    "print(assignments.groupby(['button_text', 'button_color']).size())"
   ]
  },
  {
   "cell_type": "markdown",
   "metadata": {},
   "source": [
    "### Unequal probability assignment with `WeightedChoice`"
   ]
  },
  {
   "cell_type": "markdown",
   "metadata": {},
   "source": [
    "The `WeightedChoice` operator lets you choose among multiple choices with different frequencies. The `weights` parameter is any set of weights (integer or floating point) to select among `choices`."
   ]
  },
  {
   "cell_type": "code",
   "execution_count": 8,
   "metadata": {},
   "outputs": [],
   "source": [
    "class SignupExperiment2(SimpleExperiment):\n",
    "  def assign(self, params, cookieid):\n",
    "    params.button_color = UniformChoice(\n",
    "      choices=[\"#ff0000\", \"#00ff00\"],\n",
    "      unit=cookieid)\n",
    "    params.button_text = WeightedChoice(\n",
    "      choices=[\"Join now!\", \"Sign me up!\"],\n",
    "      weights=[8, 2],\n",
    "      unit=cookieid)"
   ]
  },
  {
   "cell_type": "markdown",
   "metadata": {},
   "source": [
    "The button text frequencies reflect these weights, while the button color continues to be split in equal proportions."
   ]
  },
  {
   "cell_type": "code",
   "execution_count": 9,
   "metadata": {},
   "outputs": [
    {
     "name": "stdout",
     "output_type": "stream",
     "text": [
      "button_text  button_color\n",
      "Join now!    #00ff00         844\n",
      "             #ff0000         758\n",
      "Sign me up!  #00ff00         182\n",
      "             #ff0000         216\n",
      "dtype: int64\n"
     ]
    }
   ],
   "source": [
    "sim_users = [SignupExperiment2(cookieid=i).get_params() for i in range(2000)]\n",
    "assignments = pd.DataFrame.from_dict(sim_users)\n",
    "print(assignments.groupby(['button_text', 'button_color']).size())"
   ]
  },
  {
   "cell_type": "markdown",
   "metadata": {},
   "source": [
    "### 41 shades of blue with `RandomInteger`"
   ]
  },
  {
   "cell_type": "markdown",
   "metadata": {},
   "source": [
    "Google is infamous for testing [41 different shades of blue](http://www.nytimes.com/2009/03/01/business/01marissa.html) for their link colors. Let's implement that experiment."
   ]
  },
  {
   "cell_type": "code",
   "execution_count": 10,
   "metadata": {},
   "outputs": [],
   "source": [
    "class ColorExperiment(SimpleExperiment):\n",
    "  def assign(self, params, userid):\n",
    "    params.blue_value = RandomInteger(min=215, max=255, unit=userid)\n",
    "    params.button_color = '#0000%s' % format(params.blue_value, '02x')\n",
    "    params.button_text = 'Join now!'"
   ]
  },
  {
   "cell_type": "code",
   "execution_count": 11,
   "metadata": {},
   "outputs": [
    {
     "data": {
      "text/plain": [
       "{'blue_value': 247, 'button_color': '#0000f7', 'button_text': 'Join now!'}"
      ]
     },
     "execution_count": 11,
     "metadata": {},
     "output_type": "execute_result"
    }
   ],
   "source": [
    "ColorExperiment(userid=10).get_params()"
   ]
  },
  {
   "cell_type": "code",
   "execution_count": 13,
   "metadata": {},
   "outputs": [],
   "source": [
    "sim_users = [ColorExperiment(userid=i).get_params() for i in range(20000)]\n",
    "assignments = pd.DataFrame.from_dict(sim_users)"
   ]
  },
  {
   "cell_type": "code",
   "execution_count": 14,
   "metadata": {},
   "outputs": [
    {
     "data": {
      "text/html": [
       "<div>\n",
       "<style scoped>\n",
       "    .dataframe tbody tr th:only-of-type {\n",
       "        vertical-align: middle;\n",
       "    }\n",
       "\n",
       "    .dataframe tbody tr th {\n",
       "        vertical-align: top;\n",
       "    }\n",
       "\n",
       "    .dataframe thead th {\n",
       "        text-align: right;\n",
       "    }\n",
       "</style>\n",
       "<table border=\"1\" class=\"dataframe\">\n",
       "  <thead>\n",
       "    <tr style=\"text-align: right;\">\n",
       "      <th></th>\n",
       "      <th>blue_value</th>\n",
       "      <th>button_color</th>\n",
       "      <th>button_text</th>\n",
       "    </tr>\n",
       "  </thead>\n",
       "  <tbody>\n",
       "    <tr>\n",
       "      <th>0</th>\n",
       "      <td>231</td>\n",
       "      <td>#0000e7</td>\n",
       "      <td>Join now!</td>\n",
       "    </tr>\n",
       "    <tr>\n",
       "      <th>1</th>\n",
       "      <td>248</td>\n",
       "      <td>#0000f8</td>\n",
       "      <td>Join now!</td>\n",
       "    </tr>\n",
       "    <tr>\n",
       "      <th>2</th>\n",
       "      <td>242</td>\n",
       "      <td>#0000f2</td>\n",
       "      <td>Join now!</td>\n",
       "    </tr>\n",
       "    <tr>\n",
       "      <th>3</th>\n",
       "      <td>230</td>\n",
       "      <td>#0000e6</td>\n",
       "      <td>Join now!</td>\n",
       "    </tr>\n",
       "    <tr>\n",
       "      <th>4</th>\n",
       "      <td>239</td>\n",
       "      <td>#0000ef</td>\n",
       "      <td>Join now!</td>\n",
       "    </tr>\n",
       "  </tbody>\n",
       "</table>\n",
       "</div>"
      ],
      "text/plain": [
       "   blue_value button_color button_text\n",
       "0         231      #0000e7   Join now!\n",
       "1         248      #0000f8   Join now!\n",
       "2         242      #0000f2   Join now!\n",
       "3         230      #0000e6   Join now!\n",
       "4         239      #0000ef   Join now!"
      ]
     },
     "execution_count": 14,
     "metadata": {},
     "output_type": "execute_result"
    }
   ],
   "source": [
    "assignments[:5]"
   ]
  },
  {
   "cell_type": "code",
   "execution_count": 15,
   "metadata": {},
   "outputs": [
    {
     "data": {
      "image/png": "[encoded data removed]",
      "text/plain": [
       "<Figure size 432x288 with 1 Axes>"
      ]
     },
     "metadata": {
      "needs_background": "light"
     },
     "output_type": "display_data"
    }
   ],
   "source": [
    "assignments['blue_value'].hist(bins=41);"
   ]
  },
  {
   "cell_type": "markdown",
   "metadata": {},
   "source": [
    "### Using multiple input units to implement within-subjects designs"
   ]
  },
  {
   "cell_type": "markdown",
   "metadata": {},
   "source": [
    "In some cases you might want to assign user-item pairs or user-session pairs to parameters. You can do this by simply passing more units into `assign()` and applying multiple units."
   ]
  },
  {
   "cell_type": "code",
   "execution_count": 16,
   "metadata": {},
   "outputs": [
    {
     "name": "stdout",
     "output_type": "stream",
     "text": [
      "v212\n",
      "v0\n"
     ]
    }
   ],
   "source": [
    "class SearchRankingExperiment(SimpleExperiment):\n",
    "  def assign(self, params, userid, sessionid):\n",
    "    params.ranking_model = UniformChoice(choices=['v0','v212'], unit=[userid, sessionid])\n",
    "\n",
    "print(SearchRankingExperiment(userid=8, sessionid=1).get('ranking_model'))\n",
    "print(SearchRankingExperiment(userid=8, sessionid=3).get('ranking_model'))"
   ]
  },
  {
   "cell_type": "markdown",
   "metadata": {},
   "source": [
    "### Chaining together random assignments"
   ]
  },
  {
   "cell_type": "markdown",
   "metadata": {},
   "source": [
    "Let's consider a case where you had multiple ranking models you wanted to compare against the control, and you were interested in doing a within-subjects design. You could first assign users to candidate models, and then assign users to either see the control or candidate model."
   ]
  },
  {
   "cell_type": "code",
   "execution_count": 17,
   "metadata": {},
   "outputs": [
    {
     "name": "stdout",
     "output_type": "stream",
     "text": [
      "v214\n",
      "v0\n",
      "v214\n",
      "v0\n",
      "v214\n"
     ]
    }
   ],
   "source": [
    "class SearchRankingExperiment(SimpleExperiment):\n",
    "  def assign(self, params, userid, sessionid):\n",
    "    params.candidate_model = UniformChoice(choices=['v212', 'v213', 'v214'], unit=userid)\n",
    "    params.ranking_model = UniformChoice(choices=['v0', params.candidate_model], unit=[userid, sessionid])\n",
    "\n",
    "for s in range(5):\n",
    "    print(SearchRankingExperiment(userid=3, sessionid=s).get('ranking_model'))"
   ]
  },
  {
   "cell_type": "markdown",
   "metadata": {},
   "source": [
    "# How random assignment works in PlanOut"
   ]
  },
  {
   "cell_type": "markdown",
   "metadata": {},
   "source": [
    "PlanOut hashes input data to provide developers with randomized parameter assignments. Unless otherwise specified, all random assignments are independent. It combines experiment-level and parameter-level salts with the given input units in a way that ensures that:\n",
    "  * The same units (e.g., user ids) get mapped to different values for different experiments or parameters.\n",
    "  * Assignments are as good as random.\n",
    "\n",
    "Underneath the hood, PlanOut computes a hash that looks like\n",
    "\n",
    "    f(SHA1(experiment_name.parameter_name.unit_id))\n",
    "\n",
    "So for example, in the experiment below, PlanOut computes something that looks like:\n",
    "\n",
    "    SHA1(RandomExample1.x.4) % 2\n",
    "  \n",
    "to select the value for `x` when the given `userid` is 4."
   ]
  },
  {
   "cell_type": "markdown",
   "metadata": {},
   "source": [
    "### Parameter-level salts"
   ]
  },
  {
   "cell_type": "code",
   "execution_count": 18,
   "metadata": {},
   "outputs": [
    {
     "name": "stdout",
     "output_type": "stream",
     "text": [
      "x  y\n",
      "0  a    531\n",
      "   b    475\n",
      "1  a    478\n",
      "   b    516\n",
      "dtype: int64\n"
     ]
    }
   ],
   "source": [
    "class RandomExample1(SimpleExperiment):\n",
    "  def assign(self, params, userid):\n",
    "    params.x = UniformChoice(choices=[0, 1], unit=userid)\n",
    "    params.y = UniformChoice(choices=['a','b'], unit=userid)\n",
    "    \n",
    "sim_users = [RandomExample1(userid=i).get_params() for i in range(2000)]\n",
    "assignments = pd.DataFrame.from_dict(sim_users)\n",
    "print(assignments.groupby(['x', 'y']).size())"
   ]
  },
  {
   "cell_type": "markdown",
   "metadata": {},
   "source": [
    "PlanOut automatically \"salts\" each random assignment operator with the name of the parameter you are assigning. By writing `params.foo = Bar(...)`, you are implicitly passing the salt, \"foo\", into `Bar()`. The following experiment is equivalent to the code above."
   ]
  },
  {
   "cell_type": "code",
   "execution_count": 22,
   "metadata": {},
   "outputs": [
    {
     "name": "stdout",
     "output_type": "stream",
     "text": [
      "x  y\n",
      "0  a    510\n",
      "   b    451\n",
      "1  a    499\n",
      "   b    540\n",
      "dtype: int64\n"
     ]
    }
   ],
   "source": [
    "class RandomExample1(SimpleExperiment):\n",
    "  def assign(self, params, userid):\n",
    "    params.x = UniformChoice(choices=[0, 1], unit=userid, salt='x')\n",
    "    params.y = UniformChoice(choices=['a','b'], unit=userid, salt='y')\n",
    "    \n",
    "sim_users = [RandomExample1(userid=i).get_params() for i in range(2000)]\n",
    "assignments = pd.DataFrame.from_dict(sim_users)\n",
    "print(assignments.groupby(['x', 'y']).size())"
   ]
  },
  {
   "cell_type": "markdown",
   "metadata": {},
   "source": [
    "Comparing the cross tabs from the first and second experiments, it's clear that the two experiments produce identical assignments."
   ]
  },
  {
   "cell_type": "markdown",
   "metadata": {},
   "source": [
    "#### Changing the salts change the assignments:"
   ]
  },
  {
   "cell_type": "code",
   "execution_count": 23,
   "metadata": {},
   "outputs": [
    {
     "name": "stdout",
     "output_type": "stream",
     "text": [
      "x  y\n",
      "0  a    507\n",
      "   b    493\n",
      "1  a    506\n",
      "   b    494\n",
      "dtype: int64\n"
     ]
    }
   ],
   "source": [
    "class RandomExample1(SimpleExperiment):\n",
    "  def assign(self, params, userid):\n",
    "    params.x = UniformChoice(choices=[0, 1], unit=userid, salt='x2')\n",
    "    params.y = UniformChoice(choices=['a','b'], unit=userid, salt='y2')\n",
    "    \n",
    "sim_users = [RandomExample1(userid=i).get_params() for i in range(2000)]\n",
    "assignments = pd.DataFrame.from_dict(sim_users)\n",
    "print(assignments.groupby(['x', 'y']).size())"
   ]
  },
  {
   "cell_type": "markdown",
   "metadata": {},
   "source": [
    "#### Parameters with the same salt will have correlated assignments. If you use the same salt for the exact same kind of random operation, your assignments will be perfectly correlated."
   ]
  },
  {
   "cell_type": "code",
   "execution_count": 31,
   "metadata": {},
   "outputs": [
    {
     "name": "stdout",
     "output_type": "stream",
     "text": [
      "x  y\n",
      "0  a    1006\n",
      "1  b     994\n",
      "dtype: int64\n"
     ]
    }
   ],
   "source": [
    "class RandomExample1(SimpleExperiment):\n",
    "  def assign(self, params, userid):\n",
    "    params.x = UniformChoice(choices=[0, 1], unit=userid, salt='x')\n",
    "    params.y = UniformChoice(choices=['a','b'], unit=userid, salt='x')\n",
    "    \n",
    "sim_users = [RandomExample1(userid=i).get_params() for i in range(2000)]\n",
    "assignments = pd.DataFrame.from_dict(sim_users)\n",
    "print(assignments.groupby(['x', 'y']).size())"
   ]
  },
  {
   "cell_type": "markdown",
   "metadata": {},
   "source": [
    "### Experiment-level salts"
   ]
  },
  {
   "cell_type": "markdown",
   "metadata": {},
   "source": [
    "Each experiment also has its own salt. This makes it so that parameters with the same name will have independent random assignments, and also allows you to synchronize assignments across experiments in special situations."
   ]
  },
  {
   "cell_type": "markdown",
   "metadata": {},
   "source": [
    "#### By default, experiment class names are used as experiment-level salts"
   ]
  },
  {
   "cell_type": "markdown",
   "metadata": {},
   "source": [
    "This keeps parameter assignments for parameters with the same name independent of one another."
   ]
  },
  {
   "cell_type": "code",
   "execution_count": 27,
   "metadata": {},
   "outputs": [
    {
     "name": "stdout",
     "output_type": "stream",
     "text": [
      "x  y\n",
      "0  a    1009\n",
      "   b     962\n",
      "1  a    1004\n",
      "   b    1025\n",
      "dtype: int64\n",
      "x  y\n",
      "4  m    1017\n",
      "   n     979\n",
      "8  m    1026\n",
      "   n     978\n",
      "dtype: int64\n"
     ]
    }
   ],
   "source": [
    "class RandomExample1(SimpleExperiment):\n",
    "  def assign(self, params, userid):\n",
    "    params.x = UniformChoice(choices=[0, 1], unit=userid)\n",
    "    params.y = UniformChoice(choices=['a','b'], unit=userid)\n",
    "    \n",
    "class RandomExample2(SimpleExperiment):\n",
    "  def assign(self, params, userid):\n",
    "    params.x = UniformChoice(choices=[4, 8], unit=userid)\n",
    "    params.y = UniformChoice(choices=['m','n'], unit=userid)\n",
    "\n",
    "sim_users = [RandomExample1(userid=i).get_params() for i in range(4000)]\n",
    "assignments = pd.DataFrame.from_dict(sim_users)\n",
    "print(assignments.groupby(['x', 'y']).size())\n",
    "\n",
    "sim_users = [RandomExample2(userid=i).get_params() for i in range(4000)]\n",
    "assignments = pd.DataFrame.from_dict(sim_users)\n",
    "print(assignments.groupby(['x', 'y']).size())"
   ]
  },
  {
   "cell_type": "markdown",
   "metadata": {},
   "source": [
    "#### Experiment-level salts can be specified by setting `self.salt`"
   ]
  },
  {
   "cell_type": "markdown",
   "metadata": {},
   "source": [
    "The `self.salt` attribute of an experiment object specifies the experiment-level salt. You can set this attribute in the `setup()` method, which gets called before any assignments take place."
   ]
  },
  {
   "cell_type": "code",
   "execution_count": 28,
   "metadata": {},
   "outputs": [
    {
     "name": "stdout",
     "output_type": "stream",
     "text": [
      "x  y\n",
      "4  m    1017\n",
      "   n     979\n",
      "8  m    1026\n",
      "   n     978\n",
      "dtype: int64\n"
     ]
    }
   ],
   "source": [
    "class RandomExample1(SimpleExperiment):\n",
    "  def setup(self):\n",
    "        self.salt = 'RandomExample2'\n",
    "\n",
    "  def assign(self, params, userid):\n",
    "    params.x = UniformChoice(choices=[0, 1], unit=userid)\n",
    "    params.y = UniformChoice(choices=['a','b'], unit=userid)\n",
    "\n",
    "sim_users = [RandomExample2(userid=i).get_params() for i in range(4000)]\n",
    "assignments = pd.DataFrame.from_dict(sim_users)\n",
    "print(assignments.groupby(['x', 'y']).agg(len))\n"
   ]
  },
  {
   "cell_type": "markdown",
   "metadata": {},
   "source": [
    "### Additional notes on random assignment"
   ]
  },
  {
   "cell_type": "markdown",
   "metadata": {},
   "source": [
    "#### Random assignment with multiple units"
   ]
  },
  {
   "cell_type": "markdown",
   "metadata": {},
   "source": [
    "When multiple units are used (e.g., in the case when user-item pairs are assigned to parameters in a within-subjects design), units are concatinated, so that if the input units are `userid=4` and `url='http://news.ycombinator.com'`, the hash operation would look like:\n",
    "\n",
    "    f(SHA1('RandomExperiment1.show_thumbnail.6.http://news.ycombinator.com'))"
   ]
  },
  {
   "cell_type": "code",
   "execution_count": 29,
   "metadata": {},
   "outputs": [
    {
     "data": {
      "text/plain": [
       "0"
      ]
     },
     "execution_count": 29,
     "metadata": {},
     "output_type": "execute_result"
    }
   ],
   "source": [
    "class RandomExample1(SimpleExperiment):\n",
    "  def assign(self, params, userid, url):\n",
    "    params.show_thumbnail = BernoulliTrial(p=0.15, unit=[userid, url])\n",
    "\n",
    "RandomExample1(userid=6, url='http://news.ycombinator.com').get('show_thumbnail')"
   ]
  },
  {
   "cell_type": "markdown",
   "metadata": {},
   "source": [
    "Note that since the names of units are not used, assignment does depend on the order of the units:"
   ]
  },
  {
   "cell_type": "code",
   "execution_count": 30,
   "metadata": {},
   "outputs": [
    {
     "data": {
      "text/plain": [
       "1"
      ]
     },
     "execution_count": 30,
     "metadata": {},
     "output_type": "execute_result"
    }
   ],
   "source": [
    "class RandomExample1(SimpleExperiment):\n",
    "  def assign(self, params, userid, url):\n",
    "    params.show_thumbnail = BernoulliTrial(p=0.15, unit=[url, userid])\n",
    "\n",
    "RandomExample1(userid=6, url='http://news.ycombinator.com').get('show_thumbnail')"
   ]
  },
  {
   "cell_type": "markdown",
   "metadata": {},
   "source": [
    "#### Namespaces"
   ]
  },
  {
   "cell_type": "markdown",
   "metadata": {},
   "source": [
    "When an experiment is running under a namespace, the namespace name is concatenated with the experiment-level salt. See the namespace tutorial for more details."
   ]
  }
 ],
 "metadata": {
  "kernelspec": {
   "display_name": "Python 3",
   "language": "python",
   "name": "python3"
  },
  "language_info": {
   "codemirror_mode": {
    "name": "ipython",
    "version": 3
   },
   "file_extension": ".py",
   "mimetype": "text/x-python",
   "name": "python",
   "nbconvert_exporter": "python",
   "pygments_lexer": "ipython3",
   "version": "3.7.9"
  }
 },
 "nbformat": 4,
 "nbformat_minor": 1
}
