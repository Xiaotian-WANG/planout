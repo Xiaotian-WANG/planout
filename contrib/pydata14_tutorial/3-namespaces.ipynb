{
 "cells": [
  {
   "cell_type": "markdown",
   "metadata": {},
   "source": [
    "# Namespaces"
   ]
  },
  {
   "cell_type": "code",
   "execution_count": 1,
   "metadata": {},
   "outputs": [],
   "source": [
    "from planout.namespace import SimpleNamespace\n",
    "from planout.experiment import SimpleExperiment, DefaultExperiment\n",
    "from planout.ops.random import *\n",
    "import pandas as pd"
   ]
  },
  {
   "cell_type": "markdown",
   "metadata": {},
   "source": [
    "Namespaces are a way to manage multiple simultaneous or follow-on experiments. `Namespace` objects look like `Experiment` objects, but randomly assign primary units (e.g., users) to experiments. Units not assigned to experiments are given a default value, and are not logged."
   ]
  },
  {
   "cell_type": "markdown",
   "metadata": {},
   "source": [
    "### Basic principles of PlanOut namespaces"
   ]
  },
  {
   "cell_type": "markdown",
   "metadata": {},
   "source": [
    "* Namespaces represent a set of related parameters. Experiments in the same namespaces are necessarily _mutually exclusive_.\n",
    "* Never modify an already running experiment\n",
    "* New experiments are registered and turned off through the namespace\n",
    "* Experiments are always analyzed separately."
   ]
  },
  {
   "cell_type": "markdown",
   "metadata": {},
   "source": [
    "### Multiple experiments"
   ]
  },
  {
   "cell_type": "markdown",
   "metadata": {},
   "source": [
    "Let's suppose we're iteratively running experiments, where we create a new experiment every few weeks as we learn things."
   ]
  },
  {
   "cell_type": "code",
   "execution_count": 2,
   "metadata": {},
   "outputs": [],
   "source": [
    "class V1(SimpleExperiment):\n",
    "  def assign(self, params, userid):\n",
    "    params.banner_text = UniformChoice(\n",
    "      choices=['Hello there!', 'Welcome!'],\n",
    "      unit=userid)\n",
    "\n",
    "class V2(SimpleExperiment):\n",
    "  def assign(self, params, userid):\n",
    "    params.banner_text = WeightedChoice(\n",
    "      choices=['Hello there!', 'Welcome!'],\n",
    "      weights=[0.8, 0.2],\n",
    "      unit=userid)\n",
    "\n",
    "class V3(SimpleExperiment):\n",
    "  def assign(self, params, userid):\n",
    "    params.banner_text = WeightedChoice(\n",
    "      choices=['Nice to see you!', 'Welcome back!'],\n",
    "      weights=[0.8, 0.2],\n",
    "      unit=userid)"
   ]
  },
  {
   "cell_type": "markdown",
   "metadata": {},
   "source": [
    "### A default experiment"
   ]
  },
  {
   "cell_type": "markdown",
   "metadata": {},
   "source": [
    "We also specify the experience of users not assigned to any experiments. Default experiments can return default key-value pairs."
   ]
  },
  {
   "cell_type": "code",
   "execution_count": 3,
   "metadata": {},
   "outputs": [],
   "source": [
    "class DefaultBannerExperiment(DefaultExperiment):\n",
    "  def get_default_params(self):\n",
    "    return {'banner_text': 'Generic greetings!'}"
   ]
  },
  {
   "cell_type": "markdown",
   "metadata": {},
   "source": [
    "### Implementing a namespace with `SimpleNamespace`"
   ]
  },
  {
   "cell_type": "markdown",
   "metadata": {},
   "source": [
    "Here is a namespace. It defines a name, the primary unit which gets hashed into conditions, the number of segments (should be 10,000 or 100,000 in production settings)."
   ]
  },
  {
   "cell_type": "code",
   "execution_count": 11,
   "metadata": {},
   "outputs": [],
   "source": [
    "class BannerNamespace(SimpleNamespace):\n",
    "  def setup(self):\n",
    "    self.name = 'banner'\n",
    "    self.primary_unit = 'userid'\n",
    "    self.num_segments = 100\n",
    "    self.default_experiment_class = DefaultBannerExperiment\n",
    "    \n",
    "  def setup_experiments(self):\n",
    "    self.add_experiment('first version phase 1', V1, 30)\n",
    "    self.add_experiment('first version phase 2', V1, 10)\n",
    "    self.add_experiment('second version', V2, 40)"
   ]
  },
  {
   "cell_type": "markdown",
   "metadata": {},
   "source": [
    "Try out a few users"
   ]
  },
  {
   "cell_type": "code",
   "execution_count": 9,
   "metadata": {},
   "outputs": [
    {
     "data": {
      "text/plain": [
       "'Generic greetings!'"
      ]
     },
     "execution_count": 9,
     "metadata": {},
     "output_type": "execute_result"
    }
   ],
   "source": [
    "BannerNamespace(userid=6).get('banner_text')"
   ]
  },
  {
   "cell_type": "code",
   "execution_count": 12,
   "metadata": {},
   "outputs": [
    {
     "name": "stdout",
     "output_type": "stream",
     "text": [
      "Hello there!\n",
      "Hello there!\n",
      "Hello there!\n",
      "Hello there!\n",
      "Generic greetings!\n",
      "Welcome!\n",
      "Generic greetings!\n",
      "Generic greetings!\n",
      "Hello there!\n",
      "Hello there!\n",
      "Welcome!\n",
      "Welcome!\n",
      "Welcome!\n",
      "Generic greetings!\n",
      "Hello there!\n",
      "Hello there!\n",
      "Hello there!\n",
      "Hello there!\n",
      "Hello there!\n",
      "Hello there!\n"
     ]
    }
   ],
   "source": [
    "for i in range(20):\n",
    "    print(BannerNamespace(userid=i).get('banner_text'))"
   ]
  },
  {
   "cell_type": "markdown",
   "metadata": {},
   "source": [
    "Now take a look at your local directory."
   ]
  },
  {
   "cell_type": "markdown",
   "metadata": {},
   "source": [
    "#### Underneeth the hood"
   ]
  },
  {
   "cell_type": "code",
   "execution_count": 7,
   "metadata": {},
   "outputs": [
    {
     "data": {
      "text/plain": [
       "46"
      ]
     },
     "execution_count": 7,
     "metadata": {},
     "output_type": "execute_result"
    }
   ],
   "source": [
    "ns = BannerNamespace(userid=2)\n",
    "ns.get_segment()"
   ]
  },
  {
   "cell_type": "code",
   "execution_count": 13,
   "metadata": {},
   "outputs": [
    {
     "data": {
      "text/plain": [
       "'no experiment allocated to segment'"
      ]
     },
     "execution_count": 13,
     "metadata": {},
     "output_type": "execute_result"
    }
   ],
   "source": [
    "ns.segment_allocations.get(ns.get_segment, 'no experiment allocated to segment')"
   ]
  },
  {
   "cell_type": "code",
   "execution_count": 15,
   "metadata": {},
   "outputs": [
    {
     "name": "stdout",
     "output_type": "stream",
     "text": [
      "   segment             experiment\n",
      "0       72  first version phase 1\n",
      "1       95  first version phase 1\n",
      "2       94  first version phase 1\n",
      "3       17  first version phase 1\n",
      "4       60  first version phase 1\n",
      "5        8  first version phase 1\n",
      "6        9  first version phase 1\n",
      "7        3  first version phase 1\n",
      "                       segment\n",
      "experiment                    \n",
      "first version phase 1       30\n",
      "first version phase 2       10\n",
      "second version              40\n"
     ]
    }
   ],
   "source": [
    "allocations = pd.DataFrame(ns.segment_allocations.items(), columns=['segment', 'experiment'])\n",
    "print(allocations[:8])\n",
    "print(allocations.groupby('experiment').agg(len))"
   ]
  },
  {
   "cell_type": "code",
   "execution_count": null,
   "metadata": {},
   "outputs": [],
   "source": []
  }
 ],
 "metadata": {
  "kernelspec": {
   "display_name": "Python 3",
   "language": "python",
   "name": "python3"
  },
  "language_info": {
   "codemirror_mode": {
    "name": "ipython",
    "version": 3
   },
   "file_extension": ".py",
   "mimetype": "text/x-python",
   "name": "python",
   "nbconvert_exporter": "python",
   "pygments_lexer": "ipython3",
   "version": "3.7.9"
  }
 },
 "nbformat": 4,
 "nbformat_minor": 1
}
